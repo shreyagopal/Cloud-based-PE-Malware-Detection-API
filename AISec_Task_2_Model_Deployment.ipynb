{
  "nbformat": 4,
  "nbformat_minor": 0,
  "metadata": {
    "kernelspec": {
      "display_name": "conda_tensorflow_p36",
      "language": "python",
      "name": "conda_tensorflow_p36"
    },
    "language_info": {
      "codemirror_mode": {
        "name": "ipython",
        "version": 3
      },
      "file_extension": ".py",
      "mimetype": "text/x-python",
      "name": "python",
      "nbconvert_exporter": "python",
      "pygments_lexer": "ipython3",
      "version": "3.6.6"
    },
    "colab": {
      "name": "AISec_Task 2_Model_Deployment.ipynb",
      "provenance": []
    }
  },
  "cells": [
    {
      "cell_type": "markdown",
      "metadata": {
        "id": "11C3Z3TZbTHz",
        "colab_type": "text"
      },
      "source": [
        "# **Cloud-based PE Malware Detection API:**\n",
        "\n",
        "## **Task 2: Deploy your model on the cloud:**\n",
        "\n",
        "In this task, you will be using Amazon Sagemaker to deploy your model on the cloud, and create an endpoint (~ API) so that other applications can make use\n",
        "of the model. While this might sound very complicated, you will find that it is actually quite simple to deploy models using Sagemaker. "
      ]
    },
    {
      "cell_type": "code",
      "metadata": {
        "id": "4v3a0v54bNgB",
        "colab_type": "code",
        "colab": {}
      },
      "source": [
        "#setting up\n",
        "import boto3, re\n",
        "from sagemaker import get_execution_role\n",
        "\n",
        "role = get_execution_role()"
      ],
      "execution_count": 0,
      "outputs": []
    },
    {
      "cell_type": "code",
      "metadata": {
        "id": "9Bt2So1WbNgF",
        "colab_type": "code",
        "colab": {},
        "outputId": "04e1fd28-fe2c-41c4-910f-87209f8301f3"
      },
      "source": [
        "import keras\n",
        "from keras.models import model_from_json\n",
        "import tensorflow as tf\n",
        "\n",
        "tf.compat.v1.disable_eager_execution()"
      ],
      "execution_count": 0,
      "outputs": [
        {
          "output_type": "stream",
          "text": [
            "Using TensorFlow backend.\n"
          ],
          "name": "stderr"
        },
        {
          "output_type": "stream",
          "text": [
            "WARNING:tensorflow:From /home/ec2-user/anaconda3/envs/tensorflow_p36/lib/python3.6/site-packages/tensorflow_core/__init__.py:1467: The name tf.estimator.inputs is deprecated. Please use tf.compat.v1.estimator.inputs instead.\n",
            "\n"
          ],
          "name": "stdout"
        }
      ]
    },
    {
      "cell_type": "markdown",
      "metadata": {
        "id": "1qxYqqwEbfTf",
        "colab_type": "text"
      },
      "source": [
        "Create a directory and load the saved model and its weights to it."
      ]
    },
    {
      "cell_type": "code",
      "metadata": {
        "id": "TzsXw4hKbNgI",
        "colab_type": "code",
        "colab": {},
        "outputId": "f05d7428-3970-4af7-d123-e02615b451f0"
      },
      "source": [
        "!mkdir keras_model"
      ],
      "execution_count": 0,
      "outputs": [
        {
          "output_type": "stream",
          "text": [
            "mkdir: cannot create directory ‘keras_model’: File exists\r\n"
          ],
          "name": "stdout"
        }
      ]
    },
    {
      "cell_type": "code",
      "metadata": {
        "id": "F-GadbMfbNgK",
        "colab_type": "code",
        "colab": {},
        "outputId": "8f3db81e-d4eb-410b-f674-a61552b840fe"
      },
      "source": [
        "!ls keras_model"
      ],
      "execution_count": 0,
      "outputs": [
        {
          "output_type": "stream",
          "text": [
            "mymodeljson.json  my_model-weights.h5\r\n"
          ],
          "name": "stdout"
        }
      ]
    },
    {
      "cell_type": "code",
      "metadata": {
        "id": "gheaOXBEbNgM",
        "colab_type": "code",
        "colab": {},
        "outputId": "d6744686-1666-4b60-8e8b-83d3752e42b1"
      },
      "source": [
        "#loading the model\n",
        "json_file = open('/home/ec2-user/SageMaker/keras_model/'+'mymodeljson.json', 'r')\n",
        "loaded_model_json = json_file.read()\n",
        "json_file.close()\n",
        "loaded_model = model_from_json(loaded_model_json,custom_objects={\"GlorotUniform\": tf.keras.initializers.glorot_uniform})"
      ],
      "execution_count": 0,
      "outputs": [
        {
          "output_type": "stream",
          "text": [
            "WARNING:tensorflow:From /home/ec2-user/anaconda3/envs/tensorflow_p36/lib/python3.6/site-packages/keras/backend/tensorflow_backend.py:517: The name tf.placeholder is deprecated. Please use tf.compat.v1.placeholder instead.\n",
            "\n",
            "WARNING:tensorflow:From /home/ec2-user/anaconda3/envs/tensorflow_p36/lib/python3.6/site-packages/keras/backend/tensorflow_backend.py:131: The name tf.get_default_graph is deprecated. Please use tf.compat.v1.get_default_graph instead.\n",
            "\n",
            "WARNING:tensorflow:From /home/ec2-user/anaconda3/envs/tensorflow_p36/lib/python3.6/site-packages/keras/backend/tensorflow_backend.py:133: The name tf.placeholder_with_default is deprecated. Please use tf.compat.v1.placeholder_with_default instead.\n",
            "\n",
            "WARNING:tensorflow:From /home/ec2-user/anaconda3/envs/tensorflow_p36/lib/python3.6/site-packages/keras/backend/tensorflow_backend.py:3445: calling dropout (from tensorflow.python.ops.nn_ops) with keep_prob is deprecated and will be removed in a future version.\n",
            "Instructions for updating:\n",
            "Please use `rate` instead of `keep_prob`. Rate should be set to `rate = 1 - keep_prob`.\n"
          ],
          "name": "stdout"
        }
      ]
    },
    {
      "cell_type": "code",
      "metadata": {
        "id": "trAt0DqebNgP",
        "colab_type": "code",
        "colab": {},
        "outputId": "8ae79e05-6a75-4b92-c997-ff7b87a20448"
      },
      "source": [
        "#loading the model weights\n",
        "loaded_model.load_weights('/home/ec2-user/SageMaker/keras_model/my_model-weights.h5')\n",
        "print(\"Loaded model from disk\")"
      ],
      "execution_count": 0,
      "outputs": [
        {
          "output_type": "stream",
          "text": [
            "WARNING:tensorflow:From /home/ec2-user/anaconda3/envs/tensorflow_p36/lib/python3.6/site-packages/keras/backend/tensorflow_backend.py:174: The name tf.get_default_session is deprecated. Please use tf.compat.v1.get_default_session instead.\n",
            "\n",
            "WARNING:tensorflow:From /home/ec2-user/anaconda3/envs/tensorflow_p36/lib/python3.6/site-packages/keras/backend/tensorflow_backend.py:184: The name tf.ConfigProto is deprecated. Please use tf.compat.v1.ConfigProto instead.\n",
            "\n",
            "WARNING:tensorflow:From /home/ec2-user/anaconda3/envs/tensorflow_p36/lib/python3.6/site-packages/keras/backend/tensorflow_backend.py:186: The name tf.Session is deprecated. Please use tf.compat.v1.Session instead.\n",
            "\n",
            "WARNING:tensorflow:From /home/ec2-user/anaconda3/envs/tensorflow_p36/lib/python3.6/site-packages/keras/backend/tensorflow_backend.py:190: The name tf.global_variables is deprecated. Please use tf.compat.v1.global_variables instead.\n",
            "\n",
            "WARNING:tensorflow:From /home/ec2-user/anaconda3/envs/tensorflow_p36/lib/python3.6/site-packages/keras/backend/tensorflow_backend.py:199: The name tf.is_variable_initialized is deprecated. Please use tf.compat.v1.is_variable_initialized instead.\n",
            "\n",
            "WARNING:tensorflow:From /home/ec2-user/anaconda3/envs/tensorflow_p36/lib/python3.6/site-packages/keras/backend/tensorflow_backend.py:206: The name tf.variables_initializer is deprecated. Please use tf.compat.v1.variables_initializer instead.\n",
            "\n",
            "Loaded model from disk\n"
          ],
          "name": "stdout"
        }
      ]
    },
    {
      "cell_type": "markdown",
      "metadata": {
        "id": "0gEzWOLBbqRA",
        "colab_type": "text"
      },
      "source": [
        "Create a directory export/servo/1 for the deployment of the model to cloud."
      ]
    },
    {
      "cell_type": "code",
      "metadata": {
        "id": "sWhuJNk2bNgV",
        "colab_type": "code",
        "colab": {},
        "outputId": "477f1179-fd71-4916-e622-84b7eb2a0332"
      },
      "source": [
        "from tensorflow.python.saved_model import builder\n",
        "from tensorflow.python.saved_model.signature_def_utils import predict_signature_def\n",
        "from tensorflow.python.saved_model import tag_constants\n",
        "\n",
        "# Note: This directory structure will need to be followed - see notes for the next section\n",
        "\n",
        "model_version = '1'\n",
        "export_dir = 'export/Servo/' + model_version\n",
        "export_dir"
      ],
      "execution_count": 0,
      "outputs": [
        {
          "output_type": "execute_result",
          "data": {
            "text/plain": [
              "'export/Servo/1'"
            ]
          },
          "metadata": {
            "tags": []
          },
          "execution_count": 8
        }
      ]
    },
    {
      "cell_type": "code",
      "metadata": {
        "id": "yK8MzbL6bNgY",
        "colab_type": "code",
        "colab": {}
      },
      "source": [
        "\n",
        "import shutil\n",
        "shutil.rmtree(export_dir)"
      ],
      "execution_count": 0,
      "outputs": []
    },
    {
      "cell_type": "code",
      "metadata": {
        "id": "zrJybuh1bNgZ",
        "colab_type": "code",
        "colab": {}
      },
      "source": [
        "# Build the Protocol Buffer SavedModel at 'export_dir'\n",
        "build = builder.SavedModelBuilder(export_dir)"
      ],
      "execution_count": 0,
      "outputs": []
    },
    {
      "cell_type": "code",
      "metadata": {
        "id": "ErNMj-HNbNgb",
        "colab_type": "code",
        "colab": {},
        "outputId": "6ab983f9-0d00-46fc-c624-3b948e202704"
      },
      "source": [
        "# Create prediction signature to be used by TensorFlow Serving Predict API\n",
        "signature = predict_signature_def(\n",
        "    inputs={\"inputs\": loaded_model.input}, outputs={\"score\": loaded_model.output})"
      ],
      "execution_count": 0,
      "outputs": [
        {
          "output_type": "stream",
          "text": [
            "WARNING:tensorflow:From /home/ec2-user/anaconda3/envs/tensorflow_p36/lib/python3.6/site-packages/tensorflow_core/python/saved_model/signature_def_utils_impl.py:201: build_tensor_info (from tensorflow.python.saved_model.utils_impl) is deprecated and will be removed in a future version.\n",
            "Instructions for updating:\n",
            "This function will only be available through the v1 compatibility library as tf.compat.v1.saved_model.utils.build_tensor_info or tf.compat.v1.saved_model.build_tensor_info.\n"
          ],
          "name": "stdout"
        }
      ]
    },
    {
      "cell_type": "code",
      "metadata": {
        "id": "QD892EHFbNge",
        "colab_type": "code",
        "colab": {},
        "outputId": "f57093f3-441f-4538-820f-34ea6faaad13"
      },
      "source": [
        "\n",
        "from keras import backend as K\n",
        "\n",
        "with K.get_session() as sess:\n",
        "    # Save the meta graph and variables\n",
        "    build.add_meta_graph_and_variables(\n",
        "        sess=sess, tags=[tag_constants.SERVING], signature_def_map={\"serving_default\": signature})\n",
        "    build.save()"
      ],
      "execution_count": 0,
      "outputs": [
        {
          "output_type": "stream",
          "text": [
            "INFO:tensorflow:No assets to save.\n",
            "INFO:tensorflow:No assets to write.\n",
            "INFO:tensorflow:SavedModel written to: export/Servo/1/saved_model.pb\n"
          ],
          "name": "stdout"
        }
      ]
    },
    {
      "cell_type": "code",
      "metadata": {
        "id": "4wv-BOf6bNgi",
        "colab_type": "code",
        "colab": {},
        "outputId": "7721b664-f04a-4eca-cca9-2ab422df21f5"
      },
      "source": [
        "!ls export/Servo/variables"
      ],
      "execution_count": 0,
      "outputs": [
        {
          "output_type": "stream",
          "text": [
            "ls: cannot access export/Servo/variables: No such file or directory\r\n"
          ],
          "name": "stdout"
        }
      ]
    },
    {
      "cell_type": "code",
      "metadata": {
        "id": "bOyideKKbNgl",
        "colab_type": "code",
        "colab": {}
      },
      "source": [
        "import tarfile\n",
        "with tarfile.open('model.tar.gz', mode='w:gz') as archive:\n",
        "    archive.add('export', recursive=True)"
      ],
      "execution_count": 0,
      "outputs": []
    },
    {
      "cell_type": "code",
      "metadata": {
        "id": "EX6f06fxbNgn",
        "colab_type": "code",
        "colab": {}
      },
      "source": [
        "import sagemaker\n",
        "\n",
        "sagemaker_session = sagemaker.Session()\n",
        "inputs = sagemaker_session.upload_data(path='model.tar.gz', key_prefix='model')"
      ],
      "execution_count": 0,
      "outputs": []
    },
    {
      "cell_type": "code",
      "metadata": {
        "id": "btTB0fpFbNgp",
        "colab_type": "code",
        "colab": {}
      },
      "source": [
        "!touch train.py"
      ],
      "execution_count": 0,
      "outputs": []
    },
    {
      "cell_type": "code",
      "metadata": {
        "id": "4G_1xFL0bNgr",
        "colab_type": "code",
        "colab": {},
        "outputId": "cda54c9c-a793-4e3a-e42c-c54e47517204"
      },
      "source": [
        "from sagemaker.tensorflow.model import TensorFlowModel\n",
        "sagemaker_model = TensorFlowModel(model_data = 's3://' + sagemaker_session.default_bucket() + '/model/model.tar.gz',\n",
        "                                  role = role,\n",
        "                                  framework_version = '1.12',\n",
        "                                  entry_point = 'train.py')"
      ],
      "execution_count": 0,
      "outputs": [
        {
          "output_type": "stream",
          "text": [
            "2.1.0 is the latest version of tensorflow that supports Python 2. Newer versions of tensorflow will only be available for Python 3.Please set the argument \"py_version='py3'\" to use the Python 3 tensorflow image.\n"
          ],
          "name": "stderr"
        }
      ]
    },
    {
      "cell_type": "code",
      "metadata": {
        "scrolled": true,
        "id": "OLeQ44AVbNgt",
        "colab_type": "code",
        "colab": {},
        "outputId": "7105fb7e-6c4c-495e-9353-0d7efc519d3a"
      },
      "source": [
        "%%time\n",
        "predictor = sagemaker_model.deploy(initial_instance_count=1,\n",
        "                                   instance_type='ml.t2.medium')"
      ],
      "execution_count": 0,
      "outputs": [
        {
          "output_type": "stream",
          "text": [
            "-----------------!CPU times: user 512 ms, sys: 29.5 ms, total: 541 ms\n",
            "Wall time: 8min 32s\n"
          ],
          "name": "stdout"
        }
      ]
    },
    {
      "cell_type": "code",
      "metadata": {
        "scrolled": true,
        "id": "xr0TqdTebNgw",
        "colab_type": "code",
        "colab": {},
        "outputId": "59b32528-4588-4a4c-8d21-de056a198f3d"
      },
      "source": [
        "predictor.endpoint"
      ],
      "execution_count": 0,
      "outputs": [
        {
          "output_type": "execute_result",
          "data": {
            "text/plain": [
              "'sagemaker-tensorflow-2020-04-28-17-18-22-025'"
            ]
          },
          "metadata": {
            "tags": []
          },
          "execution_count": 19
        }
      ]
    },
    {
      "cell_type": "code",
      "metadata": {
        "id": "OdNEwg1cbNgy",
        "colab_type": "code",
        "colab": {}
      },
      "source": [
        "endpoint_name = 'sagemaker-tensorflow-2020-04-28-17-18-22-025'"
      ],
      "execution_count": 0,
      "outputs": []
    },
    {
      "cell_type": "markdown",
      "metadata": {
        "id": "aeXMqKI4bvtP",
        "colab_type": "text"
      },
      "source": [
        "The enpoint is created successfully."
      ]
    }
  ]
}